{
 "cells": [
  {
   "cell_type": "code",
   "execution_count": 203,
   "id": "1cf60ca4",
   "metadata": {},
   "outputs": [],
   "source": [
    "import pandas as pd\n",
    "import numpy as np\n",
    "import matplotlib.pyplot as plt"
   ]
  },
  {
   "cell_type": "code",
   "execution_count": 204,
   "id": "587f19c7",
   "metadata": {},
   "outputs": [],
   "source": [
    "raw_data = pd.read_csv('C:\\data\\Arrest_Data_from_2010_to_2019.csv')"
   ]
  },
  {
   "cell_type": "code",
   "execution_count": 205,
   "id": "12780792",
   "metadata": {
    "scrolled": true
   },
   "outputs": [
    {
     "data": {
      "text/html": [
       "<div>\n",
       "<style scoped>\n",
       "    .dataframe tbody tr th:only-of-type {\n",
       "        vertical-align: middle;\n",
       "    }\n",
       "\n",
       "    .dataframe tbody tr th {\n",
       "        vertical-align: top;\n",
       "    }\n",
       "\n",
       "    .dataframe thead th {\n",
       "        text-align: right;\n",
       "    }\n",
       "</style>\n",
       "<table border=\"1\" class=\"dataframe\">\n",
       "  <thead>\n",
       "    <tr style=\"text-align: right;\">\n",
       "      <th></th>\n",
       "      <th>Report ID</th>\n",
       "      <th>Arrest Date</th>\n",
       "      <th>Time</th>\n",
       "      <th>Area ID</th>\n",
       "      <th>Area Name</th>\n",
       "      <th>Reporting District</th>\n",
       "      <th>Age</th>\n",
       "      <th>Sex Code</th>\n",
       "      <th>Descent Code</th>\n",
       "      <th>Charge Group Code</th>\n",
       "      <th>Charge Group Description</th>\n",
       "      <th>Arrest Type Code</th>\n",
       "      <th>Charge</th>\n",
       "      <th>Charge Description</th>\n",
       "      <th>Address</th>\n",
       "      <th>Cross Street</th>\n",
       "      <th>Location</th>\n",
       "    </tr>\n",
       "  </thead>\n",
       "  <tbody>\n",
       "    <tr>\n",
       "      <th>0</th>\n",
       "      <td>191811472</td>\n",
       "      <td>05/03/2019</td>\n",
       "      <td>1700.0</td>\n",
       "      <td>18</td>\n",
       "      <td>Southeast</td>\n",
       "      <td>1802</td>\n",
       "      <td>23</td>\n",
       "      <td>F</td>\n",
       "      <td>B</td>\n",
       "      <td>NaN</td>\n",
       "      <td>NaN</td>\n",
       "      <td>M</td>\n",
       "      <td>653.22 PC</td>\n",
       "      <td>NaN</td>\n",
       "      <td>91ST</td>\n",
       "      <td>FIGUEROA</td>\n",
       "      <td>(33.9543, -118.2827)</td>\n",
       "    </tr>\n",
       "    <tr>\n",
       "      <th>1</th>\n",
       "      <td>5614161</td>\n",
       "      <td>04/29/2019</td>\n",
       "      <td>1040.0</td>\n",
       "      <td>8</td>\n",
       "      <td>West LA</td>\n",
       "      <td>842</td>\n",
       "      <td>41</td>\n",
       "      <td>M</td>\n",
       "      <td>H</td>\n",
       "      <td>3.0</td>\n",
       "      <td>Robbery</td>\n",
       "      <td>F</td>\n",
       "      <td>211PC</td>\n",
       "      <td>ROBBERY</td>\n",
       "      <td>11600    WILSHIRE                     BL</td>\n",
       "      <td>NaN</td>\n",
       "      <td>(34.0508, -118.4592)</td>\n",
       "    </tr>\n",
       "    <tr>\n",
       "      <th>2</th>\n",
       "      <td>5615197</td>\n",
       "      <td>04/30/2019</td>\n",
       "      <td>615.0</td>\n",
       "      <td>6</td>\n",
       "      <td>Hollywood</td>\n",
       "      <td>663</td>\n",
       "      <td>27</td>\n",
       "      <td>M</td>\n",
       "      <td>O</td>\n",
       "      <td>5.0</td>\n",
       "      <td>Burglary</td>\n",
       "      <td>F</td>\n",
       "      <td>459PC</td>\n",
       "      <td>BURGLARY</td>\n",
       "      <td>LA BREA</td>\n",
       "      <td>LEXINGTON</td>\n",
       "      <td>(34.0907, -118.3384)</td>\n",
       "    </tr>\n",
       "    <tr>\n",
       "      <th>3</th>\n",
       "      <td>5615701</td>\n",
       "      <td>04/30/2019</td>\n",
       "      <td>1100.0</td>\n",
       "      <td>9</td>\n",
       "      <td>Van Nuys</td>\n",
       "      <td>901</td>\n",
       "      <td>2</td>\n",
       "      <td>F</td>\n",
       "      <td>H</td>\n",
       "      <td>NaN</td>\n",
       "      <td>NaN</td>\n",
       "      <td>D</td>\n",
       "      <td>300(B)WIC</td>\n",
       "      <td>NaN</td>\n",
       "      <td>RAYMER</td>\n",
       "      <td>SEPULVEDA                    BL</td>\n",
       "      <td>(34.2149, -118.4674)</td>\n",
       "    </tr>\n",
       "    <tr>\n",
       "      <th>4</th>\n",
       "      <td>5615929</td>\n",
       "      <td>04/30/2019</td>\n",
       "      <td>1550.0</td>\n",
       "      <td>20</td>\n",
       "      <td>Olympic</td>\n",
       "      <td>2049</td>\n",
       "      <td>41</td>\n",
       "      <td>M</td>\n",
       "      <td>W</td>\n",
       "      <td>4.0</td>\n",
       "      <td>Aggravated Assault</td>\n",
       "      <td>F</td>\n",
       "      <td>245(A)(2)PC</td>\n",
       "      <td>ADW W/FIREARM</td>\n",
       "      <td>8TH                          ST</td>\n",
       "      <td>VERMONT</td>\n",
       "      <td>(34.0578, -118.2916)</td>\n",
       "    </tr>\n",
       "  </tbody>\n",
       "</table>\n",
       "</div>"
      ],
      "text/plain": [
       "   Report ID Arrest Date    Time  Area ID  Area Name  Reporting District  Age  \\\n",
       "0  191811472  05/03/2019  1700.0       18  Southeast                1802   23   \n",
       "1    5614161  04/29/2019  1040.0        8    West LA                 842   41   \n",
       "2    5615197  04/30/2019   615.0        6  Hollywood                 663   27   \n",
       "3    5615701  04/30/2019  1100.0        9   Van Nuys                 901    2   \n",
       "4    5615929  04/30/2019  1550.0       20    Olympic                2049   41   \n",
       "\n",
       "  Sex Code Descent Code  Charge Group Code Charge Group Description  \\\n",
       "0        F            B                NaN                      NaN   \n",
       "1        M            H                3.0                  Robbery   \n",
       "2        M            O                5.0                 Burglary   \n",
       "3        F            H                NaN                      NaN   \n",
       "4        M            W                4.0       Aggravated Assault   \n",
       "\n",
       "  Arrest Type Code       Charge Charge Description  \\\n",
       "0                M    653.22 PC                NaN   \n",
       "1                F        211PC            ROBBERY   \n",
       "2                F        459PC           BURGLARY   \n",
       "3                D    300(B)WIC                NaN   \n",
       "4                F  245(A)(2)PC      ADW W/FIREARM   \n",
       "\n",
       "                                    Address                     Cross Street  \\\n",
       "0                                      91ST                         FIGUEROA   \n",
       "1  11600    WILSHIRE                     BL                              NaN   \n",
       "2                                   LA BREA                        LEXINGTON   \n",
       "3                                    RAYMER  SEPULVEDA                    BL   \n",
       "4           8TH                          ST                          VERMONT   \n",
       "\n",
       "               Location  \n",
       "0  (33.9543, -118.2827)  \n",
       "1  (34.0508, -118.4592)  \n",
       "2  (34.0907, -118.3384)  \n",
       "3  (34.2149, -118.4674)  \n",
       "4  (34.0578, -118.2916)  "
      ]
     },
     "execution_count": 205,
     "metadata": {},
     "output_type": "execute_result"
    }
   ],
   "source": [
    "raw_data.head()"
   ]
  },
  {
   "cell_type": "code",
   "execution_count": 206,
   "id": "b99f03e9",
   "metadata": {},
   "outputs": [
    {
     "data": {
      "text/html": [
       "<div>\n",
       "<style scoped>\n",
       "    .dataframe tbody tr th:only-of-type {\n",
       "        vertical-align: middle;\n",
       "    }\n",
       "\n",
       "    .dataframe tbody tr th {\n",
       "        vertical-align: top;\n",
       "    }\n",
       "\n",
       "    .dataframe thead th {\n",
       "        text-align: right;\n",
       "    }\n",
       "</style>\n",
       "<table border=\"1\" class=\"dataframe\">\n",
       "  <thead>\n",
       "    <tr style=\"text-align: right;\">\n",
       "      <th></th>\n",
       "      <th>Arrest Date</th>\n",
       "      <th>Area ID</th>\n",
       "      <th>Area Name</th>\n",
       "      <th>Reporting District</th>\n",
       "      <th>Age</th>\n",
       "      <th>Charge Group Code</th>\n",
       "      <th>Charge Group Description</th>\n",
       "      <th>Address</th>\n",
       "      <th>Cross Street</th>\n",
       "      <th>Location</th>\n",
       "    </tr>\n",
       "    <tr>\n",
       "      <th>Report ID</th>\n",
       "      <th></th>\n",
       "      <th></th>\n",
       "      <th></th>\n",
       "      <th></th>\n",
       "      <th></th>\n",
       "      <th></th>\n",
       "      <th></th>\n",
       "      <th></th>\n",
       "      <th></th>\n",
       "      <th></th>\n",
       "    </tr>\n",
       "  </thead>\n",
       "  <tbody>\n",
       "    <tr>\n",
       "      <th>191811472</th>\n",
       "      <td>05/03/2019</td>\n",
       "      <td>18</td>\n",
       "      <td>Southeast</td>\n",
       "      <td>1802</td>\n",
       "      <td>23</td>\n",
       "      <td>NaN</td>\n",
       "      <td>NaN</td>\n",
       "      <td>91ST</td>\n",
       "      <td>FIGUEROA</td>\n",
       "      <td>(33.9543, -118.2827)</td>\n",
       "    </tr>\n",
       "    <tr>\n",
       "      <th>5614161</th>\n",
       "      <td>04/29/2019</td>\n",
       "      <td>8</td>\n",
       "      <td>West LA</td>\n",
       "      <td>842</td>\n",
       "      <td>41</td>\n",
       "      <td>3.0</td>\n",
       "      <td>Robbery</td>\n",
       "      <td>11600    WILSHIRE                     BL</td>\n",
       "      <td>NaN</td>\n",
       "      <td>(34.0508, -118.4592)</td>\n",
       "    </tr>\n",
       "    <tr>\n",
       "      <th>5615197</th>\n",
       "      <td>04/30/2019</td>\n",
       "      <td>6</td>\n",
       "      <td>Hollywood</td>\n",
       "      <td>663</td>\n",
       "      <td>27</td>\n",
       "      <td>5.0</td>\n",
       "      <td>Burglary</td>\n",
       "      <td>LA BREA</td>\n",
       "      <td>LEXINGTON</td>\n",
       "      <td>(34.0907, -118.3384)</td>\n",
       "    </tr>\n",
       "    <tr>\n",
       "      <th>5615701</th>\n",
       "      <td>04/30/2019</td>\n",
       "      <td>9</td>\n",
       "      <td>Van Nuys</td>\n",
       "      <td>901</td>\n",
       "      <td>2</td>\n",
       "      <td>NaN</td>\n",
       "      <td>NaN</td>\n",
       "      <td>RAYMER</td>\n",
       "      <td>SEPULVEDA                    BL</td>\n",
       "      <td>(34.2149, -118.4674)</td>\n",
       "    </tr>\n",
       "    <tr>\n",
       "      <th>5615929</th>\n",
       "      <td>04/30/2019</td>\n",
       "      <td>20</td>\n",
       "      <td>Olympic</td>\n",
       "      <td>2049</td>\n",
       "      <td>41</td>\n",
       "      <td>4.0</td>\n",
       "      <td>Aggravated Assault</td>\n",
       "      <td>8TH                          ST</td>\n",
       "      <td>VERMONT</td>\n",
       "      <td>(34.0578, -118.2916)</td>\n",
       "    </tr>\n",
       "  </tbody>\n",
       "</table>\n",
       "</div>"
      ],
      "text/plain": [
       "          Arrest Date  Area ID  Area Name  Reporting District  Age  \\\n",
       "Report ID                                                            \n",
       "191811472  05/03/2019       18  Southeast                1802   23   \n",
       "5614161    04/29/2019        8    West LA                 842   41   \n",
       "5615197    04/30/2019        6  Hollywood                 663   27   \n",
       "5615701    04/30/2019        9   Van Nuys                 901    2   \n",
       "5615929    04/30/2019       20    Olympic                2049   41   \n",
       "\n",
       "           Charge Group Code Charge Group Description  \\\n",
       "Report ID                                               \n",
       "191811472                NaN                      NaN   \n",
       "5614161                  3.0                  Robbery   \n",
       "5615197                  5.0                 Burglary   \n",
       "5615701                  NaN                      NaN   \n",
       "5615929                  4.0       Aggravated Assault   \n",
       "\n",
       "                                            Address  \\\n",
       "Report ID                                             \n",
       "191811472                                      91ST   \n",
       "5614161    11600    WILSHIRE                     BL   \n",
       "5615197                                     LA BREA   \n",
       "5615701                                      RAYMER   \n",
       "5615929             8TH                          ST   \n",
       "\n",
       "                              Cross Street              Location  \n",
       "Report ID                                                         \n",
       "191811472                         FIGUEROA  (33.9543, -118.2827)  \n",
       "5614161                                NaN  (34.0508, -118.4592)  \n",
       "5615197                          LEXINGTON  (34.0907, -118.3384)  \n",
       "5615701    SEPULVEDA                    BL  (34.2149, -118.4674)  \n",
       "5615929                            VERMONT  (34.0578, -118.2916)  "
      ]
     },
     "execution_count": 206,
     "metadata": {},
     "output_type": "execute_result"
    }
   ],
   "source": [
    "#setting a new index and removing the unwanted columns\n",
    "data= raw_data.set_index('Report ID')\n",
    "data.drop(['Time', 'Sex Code', 'Descent Code', 'Arrest Type Code', \n",
    "                                          'Charge', 'Charge Description'], axis= 1, inplace=True)\n",
    "data.head()"
   ]
  },
  {
   "cell_type": "code",
   "execution_count": 207,
   "id": "7837fd1b",
   "metadata": {},
   "outputs": [
    {
     "name": "stdout",
     "output_type": "stream",
     "text": [
      "Arrest Date                      0\n",
      "Area ID                          0\n",
      "Area Name                        0\n",
      "Reporting District               0\n",
      "Age                              0\n",
      "Charge Group Code            88029\n",
      "Charge Group Description     88550\n",
      "Address                          0\n",
      "Cross Street                562466\n",
      "Location                         0\n",
      "dtype: int64\n"
     ]
    }
   ],
   "source": [
    "# checking for missing values \n",
    "missing_values = data.isnull().sum()\n",
    "print(missing_values)"
   ]
  },
  {
   "cell_type": "code",
   "execution_count": 208,
   "id": "98668ae3",
   "metadata": {},
   "outputs": [
    {
     "name": "stdout",
     "output_type": "stream",
     "text": [
      "Arrest Date                 0\n",
      "Area ID                     0\n",
      "Area Name                   0\n",
      "Reporting District          0\n",
      "Age                         0\n",
      "Charge Group Code           0\n",
      "Charge Group Description    0\n",
      "Address                     0\n",
      "Cross Street                0\n",
      "Location                    0\n",
      "dtype: int64\n"
     ]
    }
   ],
   "source": [
    "#replacing the missing values \n",
    "data[\"Charge Group Description\"].fillna(\"Unknown\", inplace=True)\n",
    "data[\"Charge Group Description\"].fillna(\"Unknown\", inplace=True)\n",
    "data[\"Cross Street\"].fillna(\"UNKNOWN\", inplace=True)\n",
    "#checking if the missing values are filled \n",
    "missing_values = data.isnull().sum()\n",
    "print(missing_values)"
   ]
  },
  {
   "cell_type": "code",
   "execution_count": 209,
   "id": "d0f1b1d8",
   "metadata": {},
   "outputs": [
    {
     "data": {
      "text/plain": [
       "Arrest Date                 object\n",
       "Area ID                      int64\n",
       "Area Name                   object\n",
       "Reporting District           int64\n",
       "Age                          int64\n",
       "Charge Group Code           object\n",
       "Charge Group Description    object\n",
       "Address                     object\n",
       "Cross Street                object\n",
       "Location                    object\n",
       "dtype: object"
      ]
     },
     "execution_count": 209,
     "metadata": {},
     "output_type": "execute_result"
    }
   ],
   "source": [
    "#assessing the quality of the data\n",
    "#checking the data types \n",
    "data.dtypes"
   ]
  },
  {
   "cell_type": "code",
   "execution_count": 210,
   "id": "dc6c7b39",
   "metadata": {},
   "outputs": [
    {
     "data": {
      "text/plain": [
       "Arrest Date                 datetime64[ns]\n",
       "Area ID                              int64\n",
       "Area Name                           object\n",
       "Reporting District                   int64\n",
       "Age                                  int64\n",
       "Charge Group Code                   object\n",
       "Charge Group Description            object\n",
       "Address                             object\n",
       "Cross Street                        object\n",
       "Latitude                           float64\n",
       "Longitude                          float64\n",
       "dtype: object"
      ]
     },
     "execution_count": 210,
     "metadata": {},
     "output_type": "execute_result"
    }
   ],
   "source": [
    "#changing the datatype of ArrestDate to datetime\n",
    "data['Arrest Date']= pd.to_datetime(data['Arrest Date'])\n",
    "#changing the data type of Area Name, Charge Group Description, Address, Cross Street to string \n",
    "for column in ['Area Name', 'Charge Group Description', 'Address', 'Cross Street']: \n",
    "    data[column] = data[column].astype(str)\n",
    "#changing the Location data into a more readable format \n",
    "data[['Latitude', 'Longitude']] = data['Location'].str.extract(r'\\((.*), (.*)\\)').astype(float)\n",
    "data.drop(['Location'], axis=1, inplace=True)\n",
    "data.dtypes"
   ]
  },
  {
   "cell_type": "code",
   "execution_count": 211,
   "id": "3a8bd818",
   "metadata": {},
   "outputs": [
    {
     "data": {
      "text/html": [
       "<div>\n",
       "<style scoped>\n",
       "    .dataframe tbody tr th:only-of-type {\n",
       "        vertical-align: middle;\n",
       "    }\n",
       "\n",
       "    .dataframe tbody tr th {\n",
       "        vertical-align: top;\n",
       "    }\n",
       "\n",
       "    .dataframe thead th {\n",
       "        text-align: right;\n",
       "    }\n",
       "</style>\n",
       "<table border=\"1\" class=\"dataframe\">\n",
       "  <thead>\n",
       "    <tr style=\"text-align: right;\">\n",
       "      <th></th>\n",
       "      <th>Arrest Date</th>\n",
       "      <th>Area ID</th>\n",
       "      <th>Area Name</th>\n",
       "      <th>Reporting District</th>\n",
       "      <th>Age</th>\n",
       "      <th>Charge Group Code</th>\n",
       "      <th>Charge Group Description</th>\n",
       "      <th>Address</th>\n",
       "      <th>Cross Street</th>\n",
       "      <th>Latitude</th>\n",
       "      <th>Longitude</th>\n",
       "    </tr>\n",
       "    <tr>\n",
       "      <th>Report ID</th>\n",
       "      <th></th>\n",
       "      <th></th>\n",
       "      <th></th>\n",
       "      <th></th>\n",
       "      <th></th>\n",
       "      <th></th>\n",
       "      <th></th>\n",
       "      <th></th>\n",
       "      <th></th>\n",
       "      <th></th>\n",
       "      <th></th>\n",
       "    </tr>\n",
       "  </thead>\n",
       "  <tbody>\n",
       "    <tr>\n",
       "      <th>191811472</th>\n",
       "      <td>2019-05-03</td>\n",
       "      <td>18</td>\n",
       "      <td>Southeast</td>\n",
       "      <td>1802</td>\n",
       "      <td>23</td>\n",
       "      <td>Unknown</td>\n",
       "      <td>Unknown</td>\n",
       "      <td>91ST</td>\n",
       "      <td>FIGUEROA</td>\n",
       "      <td>33.9543</td>\n",
       "      <td>-118.2827</td>\n",
       "    </tr>\n",
       "    <tr>\n",
       "      <th>5614161</th>\n",
       "      <td>2019-04-29</td>\n",
       "      <td>8</td>\n",
       "      <td>West LA</td>\n",
       "      <td>842</td>\n",
       "      <td>41</td>\n",
       "      <td>3.0</td>\n",
       "      <td>Robbery</td>\n",
       "      <td>11600    WILSHIRE                     BL</td>\n",
       "      <td>UNKNOWN</td>\n",
       "      <td>34.0508</td>\n",
       "      <td>-118.4592</td>\n",
       "    </tr>\n",
       "    <tr>\n",
       "      <th>5615197</th>\n",
       "      <td>2019-04-30</td>\n",
       "      <td>6</td>\n",
       "      <td>Hollywood</td>\n",
       "      <td>663</td>\n",
       "      <td>27</td>\n",
       "      <td>5.0</td>\n",
       "      <td>Burglary</td>\n",
       "      <td>LA BREA</td>\n",
       "      <td>LEXINGTON</td>\n",
       "      <td>34.0907</td>\n",
       "      <td>-118.3384</td>\n",
       "    </tr>\n",
       "    <tr>\n",
       "      <th>5615701</th>\n",
       "      <td>2019-04-30</td>\n",
       "      <td>9</td>\n",
       "      <td>Van Nuys</td>\n",
       "      <td>901</td>\n",
       "      <td>2</td>\n",
       "      <td>Unknown</td>\n",
       "      <td>Unknown</td>\n",
       "      <td>RAYMER</td>\n",
       "      <td>SEPULVEDA                    BL</td>\n",
       "      <td>34.2149</td>\n",
       "      <td>-118.4674</td>\n",
       "    </tr>\n",
       "    <tr>\n",
       "      <th>5615929</th>\n",
       "      <td>2019-04-30</td>\n",
       "      <td>20</td>\n",
       "      <td>Olympic</td>\n",
       "      <td>2049</td>\n",
       "      <td>41</td>\n",
       "      <td>4.0</td>\n",
       "      <td>Aggravated Assault</td>\n",
       "      <td>8TH                          ST</td>\n",
       "      <td>VERMONT</td>\n",
       "      <td>34.0578</td>\n",
       "      <td>-118.2916</td>\n",
       "    </tr>\n",
       "  </tbody>\n",
       "</table>\n",
       "</div>"
      ],
      "text/plain": [
       "          Arrest Date  Area ID  Area Name  Reporting District  Age  \\\n",
       "Report ID                                                            \n",
       "191811472  2019-05-03       18  Southeast                1802   23   \n",
       "5614161    2019-04-29        8    West LA                 842   41   \n",
       "5615197    2019-04-30        6  Hollywood                 663   27   \n",
       "5615701    2019-04-30        9   Van Nuys                 901    2   \n",
       "5615929    2019-04-30       20    Olympic                2049   41   \n",
       "\n",
       "          Charge Group Code Charge Group Description  \\\n",
       "Report ID                                              \n",
       "191811472           Unknown                  Unknown   \n",
       "5614161                 3.0                  Robbery   \n",
       "5615197                 5.0                 Burglary   \n",
       "5615701             Unknown                  Unknown   \n",
       "5615929                 4.0       Aggravated Assault   \n",
       "\n",
       "                                            Address  \\\n",
       "Report ID                                             \n",
       "191811472                                      91ST   \n",
       "5614161    11600    WILSHIRE                     BL   \n",
       "5615197                                     LA BREA   \n",
       "5615701                                      RAYMER   \n",
       "5615929             8TH                          ST   \n",
       "\n",
       "                              Cross Street  Latitude  Longitude  \n",
       "Report ID                                                        \n",
       "191811472                         FIGUEROA   33.9543  -118.2827  \n",
       "5614161                            UNKNOWN   34.0508  -118.4592  \n",
       "5615197                          LEXINGTON   34.0907  -118.3384  \n",
       "5615701    SEPULVEDA                    BL   34.2149  -118.4674  \n",
       "5615929                            VERMONT   34.0578  -118.2916  "
      ]
     },
     "execution_count": 211,
     "metadata": {},
     "output_type": "execute_result"
    }
   ],
   "source": [
    "data.head()"
   ]
  },
  {
   "cell_type": "code",
   "execution_count": 212,
   "id": "357e25ea",
   "metadata": {},
   "outputs": [
    {
     "name": "stdout",
     "output_type": "stream",
     "text": [
      "104277 were made in 2018.\n"
     ]
    }
   ],
   "source": [
    "#1 how many bookings of arrestees were made in 2018?\n",
    "\n",
    "#creating a subset with arrest data from 2018\n",
    "data_2018= data[data[\"Arrest Date\"].dt.year == 2018]\n",
    "\n",
    "#counting the number of data entries, which corresponds to the number of arrests \n",
    "num_arrests_2018 = len(data_2018)\n",
    "print(f\"{num_arrests_2018} were made in 2018.\")"
   ]
  },
  {
   "cell_type": "code",
   "execution_count": 213,
   "id": "d42e68cb",
   "metadata": {},
   "outputs": [
    {
     "name": "stdout",
     "output_type": "stream",
     "text": [
      "10951 arrests were made in the area with the most arrests in 2018.\n"
     ]
    }
   ],
   "source": [
    "#2 How many bookings of arrestees were made in the area with the most arrests in 2018?\n",
    "area_arrest_2018 = data_2018['Area Name'].value_counts().max()\n",
    "print(f'{area_arrest_2018} arrests were made in the area with the most arrests in 2018.')"
   ]
  },
  {
   "cell_type": "code",
   "execution_count": 214,
   "id": "ec6d2676",
   "metadata": {},
   "outputs": [
    {
     "name": "stdout",
     "output_type": "stream",
     "text": [
      "The 95% quantile of the age of the arrestee in 2018 is 52.\n"
     ]
    }
   ],
   "source": [
    "#3 What is the 95% quantile of the age of the arrestee in 2018? \n",
    "#Only consider the following charge groups for your analysis: \n",
    "#Vehicle Theft, Robbery, Burglary, Receive Stolen Property.\n",
    "\n",
    "charge_groups= ['Vehicle Theft', 'Robbery', 'Burglary', 'Receive Stolen Property']\n",
    "\n",
    "#creating a subset with the required charge groups \n",
    "group_data_2018 = data_2018[data_2018['Charge Group Description'].isin(charge_groups)]\n",
    "\n",
    "#calculating the 95% quantile \n",
    "percentile_95 = int(group_data_2018['Age'].quantile(0.95))\n",
    "\n",
    "print(f'The 95% quantile of the age of the arrestee in 2018 is {percentile_95}.')"
   ]
  },
  {
   "cell_type": "code",
   "execution_count": 215,
   "id": "76ffdb75",
   "metadata": {
    "scrolled": true
   },
   "outputs": [
    {
     "name": "stdout",
     "output_type": "stream",
     "text": [
      "The highest absolute value of z-score is 0.6934\n"
     ]
    }
   ],
   "source": [
    "# 4. There are differences between the average age of an arrestee for the various \n",
    "# charge groups. Are these differences statistically significant? For this question, \n",
    "# calculate the Z-score of the average age for each charge group. Report the \n",
    "# largest absolute value among the calculated Z-scores. (Only consider data for \n",
    "# 2018. Do not consider \"Pre-Delinquency\" and \"Non-Criminal Detention\" as these \n",
    "# charge groups are reserved for minors. Exclude any arrests where the charge \n",
    "# group description is not known.)\n",
    "\n",
    "#filtering out the minors and unknown crime category \n",
    "Q4_data_2018= data_2018[(data_2018[\"Charge Group Description\"] != \"Pre-Delinquency\") & \n",
    "                          (data_2018[\"Charge Group Description\"] != \"Non-Criminal Detention\") & \n",
    "                          (data_2018[\"Charge Group Description\"] != \"Unknown\")]\n",
    "\n",
    "#calculating the average age for each crime category \n",
    "avg_age = Q4_data_2018.groupby('Charge Group Description')['Age'].mean().reset_index()\n",
    "\n",
    "\n",
    "#calculating the mean and std deviation for the whole dataset \n",
    "overall_mean_age = Q4_data_2018['Age'].mean()\n",
    "overall_std_age = Q4_data_2018['Age'].std()\n",
    "\n",
    "#calculating the z-score for the mean age of different charge groups\n",
    "avg_age['Z-score'] = (avg_age['Age'] - overall_mean_age)/overall_std_age\n",
    "\n",
    "highest_zscore= round(avg_age['Z-score'].max(), 4)\n",
    "\n",
    "print(f'The highest absolute value of z-score is {highest_zscore}')"
   ]
  },
  {
   "cell_type": "markdown",
   "id": "eca19097",
   "metadata": {},
   "source": [
    "Hence, the difference between the average age of an arrestee for the various charge groups is not statistically significant \n",
    "since the absolute z-score is below the critical value of 1.96 (for 95% confidence level) or 2.58 (for 99% confidence level)"
   ]
  },
  {
   "cell_type": "code",
   "execution_count": 216,
   "id": "0614c101",
   "metadata": {
    "scrolled": true
   },
   "outputs": [
    {
     "name": "stdout",
     "output_type": "stream",
     "text": [
      "There were 11461 arrests within 2km of the Bradbury Building in 2018.\n"
     ]
    },
    {
     "name": "stderr",
     "output_type": "stream",
     "text": [
      "C:\\Users\\mohit\\AppData\\Local\\Temp\\ipykernel_8752\\1349858184.py:22: SettingWithCopyWarning: \n",
      "A value is trying to be set on a copy of a slice from a DataFrame.\n",
      "Try using .loc[row_indexer,col_indexer] = value instead\n",
      "\n",
      "See the caveats in the documentation: https://pandas.pydata.org/pandas-docs/stable/user_guide/indexing.html#returning-a-view-versus-a-copy\n",
      "  com_loc_2018.loc[:, \"Distance\"] = distance(com_loc_2018[\"Latitude\"], com_loc_2018[\"Longitude\"])\n"
     ]
    }
   ],
   "source": [
    "#5. How many arrest incidents occurred within 2 km from the Bradbury Building in 2018? \n",
    "\n",
    "#removing the rows with no location data \n",
    "com_loc_2018= data_2018[(data_2018[\"Latitude\"] != 0) | (data_2018[\"Latitude\"] != 0)]\n",
    "\n",
    "#specifying the required variables for the calculation of distance \n",
    "lat1= 34.050536\n",
    "long1= -118.247861\n",
    "radius= 6371000 #in meters \n",
    "\n",
    "#define function to calculate the distance between two locations\n",
    "def distance(lat2, long2): \n",
    "    lat_diff= deg_to_rad(lat2-lat1)\n",
    "    long_diff= deg_to_rad(long2-long1)\n",
    "    mean_lat = deg_to_rad((lat1+lat2)/2)\n",
    "    return radius*np.sqrt(lat_diff**2+(np.cos(mean_lat)*long_diff)**2)\n",
    "    \n",
    "#define function to convert degree to radian \n",
    "def deg_to_rad(deg): \n",
    "    return (np.pi*deg)/180\n",
    "\n",
    "#calculating the distance betwen the arrest point and Bradbury Building\n",
    "com_loc_2018.loc[:, \"Distance\"] = distance(com_loc_2018[\"Latitude\"], com_loc_2018[\"Longitude\"])\n",
    "\n",
    "#counting the required number of arrests \n",
    "num_arrests= len(com_loc_2018[com_loc_2018[\"Distance\"] <= 2000])\n",
    "\n",
    "print(f'There were {num_arrests} arrests within 2km of the Bradbury Building in 2018.')"
   ]
  },
  {
   "cell_type": "code",
   "execution_count": 217,
   "id": "bc9763d5",
   "metadata": {},
   "outputs": [
    {
     "name": "stdout",
     "output_type": "stream",
     "text": [
      "There were 22.95 arrests per km on Pico Boulevard during 2018.\n"
     ]
    }
   ],
   "source": [
    "# 6. How many arrest incidents were made per kilometer on Pico Boulevard during 2018?\n",
    "\n",
    "#creating a subset with \"pico\" in the address\n",
    "pic_data_2018 = data_2018[data_2018['Address'].str.contains('PICO')]\n",
    "\n",
    "#calculating the mean and standard deviation to identify the outliers \n",
    "lat_mean_pic= pic_data_2018[\"Latitude\"].mean()\n",
    "long_mean_pic= pic_data_2018[\"Longitude\"].mean()\n",
    "lat_stdev_pic= pic_data_2018[\"Latitude\"].std()\n",
    "long_stdev_pic= pic_data_2018[\"Longitude\"].std()\n",
    "\n",
    "#filtering out the outliers \n",
    "filtered_pic_data_2018 = pic_data_2018[(pic_data_2018[\"Latitude\"] < (lat_mean_pic + 2*lat_stdev_pic)) &\n",
    "                                       (pic_data_2018[\"Latitude\"] > (lat_mean_pic - 2*lat_stdev_pic)) & \n",
    "                                       (pic_data_2018[\"Longitude\"] < (long_mean_pic + 2*long_stdev_pic)) & \n",
    "                                       (pic_data_2018[\"Longitude\"] > (long_mean_pic - 2*long_stdev_pic))]\n",
    "\n",
    "#finding the diff in longitudes \n",
    "diff_long_pico= max(filtered_pic_data_2018[\"Longitude\"]) - min(filtered_pic_data_2018[\"Longitude\"])\n",
    "\n",
    "#finding the length of pico \n",
    "length_pico= (radius*deg_to_rad(diff_long_pico))/1000 #since the area stretches from east to west, latitude difference is neglected\n",
    "                                               #in the calculation \n",
    "#finding the arrest incidents per km \n",
    "arrest_per_km= round(len(filtered_pic_data_2018)/length_pico, 2)\n",
    "print(f'There were {arrest_per_km} arrests per km on Pico Boulevard during 2018.')"
   ]
  },
  {
   "cell_type": "code",
   "execution_count": 218,
   "id": "734fb98d",
   "metadata": {},
   "outputs": [
    {
     "name": "stdout",
     "output_type": "stream",
     "text": [
      "The average of the top 5 calculated ratio is 0.256.\n"
     ]
    }
   ],
   "source": [
    "# 7. Some types of arrest incidents in certain areas occur at a highly disproportionate \n",
    "# rate compared to their frequency city-wide. Calculate this ratio for all charge group code \n",
    "# and area ID pairs. You can view this ratio as the ratio of the conditional probability of \n",
    "# an arrest incident of a charge group code given that it occurred in an area ID to the \n",
    "# unconditional probability of the arrest incident of a charge group. Report the average of the top \n",
    "# 5 of the calculated ratio.\n",
    "\n",
    "#creating a subset with data before 2019\n",
    "before_2019= data[data['Arrest Date'] < pd.Timestamp('2019-01-01')]\n",
    "\n",
    "#removing the records that either don't have a charge group code or with value 99 \n",
    "filt_before_2019= before_2019[(before_2019[\"Charge Group Code\"] != \"Unknown\") &\n",
    "                             (before_2019[\"Charge Group Code\"] != \"99\")]\n",
    "\n",
    "#grouping the data to calculate the total arrests citywide for each charge \n",
    "arrests_citywide = filt_before_2019.groupby('Charge Group Description').size().reset_index(name='Total arrests citywide')\n",
    "\n",
    "#grouping the data to calculate the total arrests for various charges in each city \n",
    "arrests_by_area = filt_before_2019.groupby(['Charge Group Description', 'Area Name']).size().reset_index(name='Arrests by area')\n",
    "\n",
    "#merging the dataset to calculate the ratio \n",
    "merged_data = pd.merge(arrests_by_area, arrests_citywide, on='Charge Group Description')\n",
    "\n",
    "#creating a column with the corresponding ratio \n",
    "merged_data['Ratio'] = merged_data['Arrests by area'] / merged_data['Total arrests citywide']\n",
    "\n",
    "#filtering out the top 5 ratio and calculating the average \n",
    "average_top5_ratio = round(merged_data.nlargest(5, 'Ratio')['Ratio'].mean(), 4)\n",
    "\n",
    "print(f'The average of the top 5 calculated ratio is {average_top5_ratio}.')"
   ]
  },
  {
   "cell_type": "code",
   "execution_count": 219,
   "id": "ca53a892",
   "metadata": {},
   "outputs": [
    {
     "data": {
      "text/plain": [
       "array(['Unknown', 'Robbery', 'Burglary', 'Aggravated Assault',\n",
       "       'Miscellaneous Other Violations', 'Drunkeness', 'Larceny',\n",
       "       'Liquor Laws', 'Narcotic Drug Laws', 'Disorderly Conduct',\n",
       "       'Prostitution/Allied', 'Disturbing the Peace',\n",
       "       'Driving Under Influence', 'Gambling', 'Sex (except rape/prst)',\n",
       "       'Fraud/Embezzlement', 'Receive Stolen Property', 'Other Assaults',\n",
       "       'Homicide', 'Weapon (carry/poss)', 'Vehicle Theft',\n",
       "       'Against Family/Child', 'Forgery/Counterfeit',\n",
       "       'Moving Traffic Violations', 'Non-Criminal Detention', 'Rape',\n",
       "       'Federal Offenses', 'Pre-Delinquency'], dtype=object)"
      ]
     },
     "execution_count": 219,
     "metadata": {},
     "output_type": "execute_result"
    }
   ],
   "source": [
    "#8. Felony arrest incidents have been dropping over the years. Using a trend line \n",
    "# (linear estimation) for the data from 2010 and 2018 (inclusive), what is the \n",
    "# projected number of felony arrests in 2019?\n",
    "\n",
    "#observing the crime categories to filter out the felonies \n",
    "data[\"Charge Group Description\"].unique()"
   ]
  },
  {
   "cell_type": "code",
   "execution_count": 220,
   "id": "fdccd9a3",
   "metadata": {},
   "outputs": [
    {
     "name": "stderr",
     "output_type": "stream",
     "text": [
      "C:\\Users\\mohit\\AppData\\Local\\Temp\\ipykernel_8752\\543631607.py:9: SettingWithCopyWarning: \n",
      "A value is trying to be set on a copy of a slice from a DataFrame.\n",
      "Try using .loc[row_indexer,col_indexer] = value instead\n",
      "\n",
      "See the caveats in the documentation: https://pandas.pydata.org/pandas-docs/stable/user_guide/indexing.html#returning-a-view-versus-a-copy\n",
      "  fel_data.loc[:,'Arrest Year'] = fel_data['Arrest Date'].dt.year\n"
     ]
    },
    {
     "data": {
      "image/png": "[encoded data removed]",
      "text/plain": [
       "<Figure size 640x480 with 1 Axes>"
      ]
     },
     "metadata": {},
     "output_type": "display_data"
    },
    {
     "name": "stdout",
     "output_type": "stream",
     "text": [
      "Predicted number of felonies in 2019 is 48289.\n"
     ]
    }
   ],
   "source": [
    "#creating a list that has all the non-felony crimes \n",
    "non_felony= ['Unknown','Miscellaneous Other Violations', 'Drunkeness', 'Liquor Laws','Disorderly Conduct', 'Disturbing the Peace',\n",
    "            'Driving Under Influence', 'Gambling', 'Sex (except rape/prst)', 'Moving Traffic Violations',\n",
    "             'Non-Criminal Detention', 'Pre-Delinquency']\n",
    "\n",
    "#creating a subset having data from 2010-2018 with only felonies \n",
    "time_data = data[data[\"Arrest Date\"].dt.year.isin([2010, 2011, 2012, 2013, 2014, 2015, 2016, 2017, 2018])]\n",
    "fel_data = time_data[~time_data[\"Charge Group Description\"].isin(non_felony)]    \n",
    "fel_data.loc[:,'Arrest Year'] = fel_data['Arrest Date'].dt.year\n",
    "\n",
    "#grouping the data based on year \n",
    "raw_trend_data= fel_data.groupby('Arrest Year').count().reset_index()\n",
    "#restructuring the dataframe to make it more suitable for visualization \n",
    "trend_data= raw_trend_data.iloc[:, :2]\n",
    "trend_data.rename(columns={'Arrest Date': 'Felony crimes'}, inplace=True)\n",
    "\n",
    "# Creating a linear trendline based on the data \n",
    "coefficients = np.polyfit(trend_data[\"Arrest Year\"], trend_data[\"Felony crimes\"], 1)\n",
    "trendline = np.polyval(coefficients, trend_data[\"Arrest Year\"])\n",
    "\n",
    "# Plotting the data points and the trend line \n",
    "plt.scatter(trend_data[\"Arrest Year\"], trend_data[\"Felony crimes\"], color='blue')\n",
    "plt.plot(trend_data[\"Arrest Year\"], trendline, color='red', label='Trendline')\n",
    "plt.xlabel('Arrest Year')\n",
    "plt.ylabel('Felony crimes')\n",
    "plt.legend()\n",
    "plt.show()\n",
    "\n",
    "#predicting the no of felonies in 2019\n",
    "pred_2019 = round(np.polyval(coefficients, 2019))\n",
    "print(f'Predicted number of felonies in 2019 is {pred_2019}.')"
   ]
  },
  {
   "cell_type": "code",
   "execution_count": null,
   "id": "6965c5d3",
   "metadata": {},
   "outputs": [],
   "source": []
  }
 ],
 "metadata": {
  "kernelspec": {
   "display_name": "Python 3 (ipykernel)",
   "language": "python",
   "name": "python3"
  },
  "language_info": {
   "codemirror_mode": {
    "name": "ipython",
    "version": 3
   },
   "file_extension": ".py",
   "mimetype": "text/x-python",
   "name": "python",
   "nbconvert_exporter": "python",
   "pygments_lexer": "ipython3",
   "version": "3.11.4"
  }
 },
 "nbformat": 4,
 "nbformat_minor": 5
}
